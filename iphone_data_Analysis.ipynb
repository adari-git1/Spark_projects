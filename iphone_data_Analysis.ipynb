{
  "nbformat": 4,
  "nbformat_minor": 0,
  "metadata": {
    "colab": {
      "provenance": [],
      "authorship_tag": "ABX9TyPJLSkJwFoYIhzJkF8Vl+aW",
      "include_colab_link": true
    },
    "kernelspec": {
      "name": "python3",
      "display_name": "Python 3"
    },
    "language_info": {
      "name": "python"
    }
  },
  "cells": [
    {
      "cell_type": "markdown",
      "metadata": {
        "id": "view-in-github",
        "colab_type": "text"
      },
      "source": [
        "<a href=\"https://colab.research.google.com/github/adari-git1/Spark_projects/blob/main/iphone_data_Analysis.ipynb\" target=\"_parent\"><img src=\"https://colab.research.google.com/assets/colab-badge.svg\" alt=\"Open In Colab\"/></a>"
      ]
    },
    {
      "cell_type": "code",
      "execution_count": null,
      "metadata": {
        "id": "94vGETdmbD0p"
      },
      "outputs": [],
      "source": [
        "from pyspark.sql import SparkSession"
      ]
    },
    {
      "cell_type": "code",
      "source": [
        "spark=SparkSession.builder.appName('Iphone').getOrCreate()"
      ],
      "metadata": {
        "id": "gaTp_FbxbcvS"
      },
      "execution_count": null,
      "outputs": []
    },
    {
      "cell_type": "code",
      "source": [],
      "metadata": {
        "id": "JdLpRSeydmH1"
      },
      "execution_count": null,
      "outputs": []
    },
    {
      "cell_type": "code",
      "source": [
        "\n",
        "data=spark.read.option('header',True).option('Truncate',False).csv('/content/apple_products.csv')"
      ],
      "metadata": {
        "id": "6rEFY8k9bjy5"
      },
      "execution_count": null,
      "outputs": []
    },
    {
      "cell_type": "code",
      "source": [
        "data.show()"
      ],
      "metadata": {
        "colab": {
          "base_uri": "https://localhost:8080/"
        },
        "id": "Dank_-L0byCx",
        "outputId": "d9322aaa-eca8-465d-dd8d-c901671e41bd"
      },
      "execution_count": null,
      "outputs": [
        {
          "output_type": "stream",
          "name": "stdout",
          "text": [
            "+--------------------+--------------------+-----+----------+------+-------------------+-----------------+-----------------+----------------+-----------+----+\n",
            "|        Product Name|         Product URL|Brand|Sale Price|   Mrp|Discount Percentage|Number Of Ratings|Number Of Reviews|             Upc|Star Rating| Ram|\n",
            "+--------------------+--------------------+-----+----------+------+-------------------+-----------------+-----------------+----------------+-----------+----+\n",
            "|APPLE iPhone 8 Pl...|https://www.flipk...|Apple|     49900| 49900|                  0|             3431|              356|MOBEXRGV7EHHTGUH|        4.6|2 GB|\n",
            "|APPLE iPhone 8 Pl...|https://www.flipk...|Apple|     84900| 84900|                  0|             3431|              356|MOBEXRGVAC6TJT4F|        4.6|2 GB|\n",
            "|APPLE iPhone 8 Pl...|https://www.flipk...|Apple|     84900| 84900|                  0|             3431|              356|MOBEXRGVGETABXWZ|        4.6|2 GB|\n",
            "|APPLE iPhone 8 (S...|https://www.flipk...|Apple|     77000| 77000|                  0|            11202|              794|MOBEXRGVMZWUHCBA|        4.5|2 GB|\n",
            "|APPLE iPhone 8 (G...|https://www.flipk...|Apple|     77000| 77000|                  0|            11202|              794|MOBEXRGVPK7PFEJZ|        4.5|2 GB|\n",
            "|APPLE iPhone 8 Pl...|https://www.flipk...|Apple|     49900| 49900|                  0|             3431|              356|MOBEXRGVQGYYP8FV|        4.6|2 GB|\n",
            "|APPLE iPhone 8 Pl...|https://www.flipk...|Apple|     49900| 49900|                  0|             3431|              356|MOBEXRGVQKBREZP8|        4.6|2 GB|\n",
            "|APPLE iPhone 8 (S...|https://www.flipk...|Apple|     77000| 77000|                  0|            11202|              794|MOBEXRGVZFZGZEWV|        4.5|2 GB|\n",
            "|APPLE iPhone XS M...|https://www.flipk...|Apple|     89900| 89900|                  0|             1454|              149|MOBF944E2XAHW8V5|        4.6|4 GB|\n",
            "|Apple iPhone XR (...|https://www.flipk...|Apple|     41999| 52900|                 20|            79512|             6796|MOBF9Z7ZHQC23PWQ|        4.6|4 GB|\n",
            "|Apple iPhone XR (...|https://www.flipk...|Apple|     39999| 47900|                 16|            79512|             6796|MOBF9Z7ZPHGV4GNH|        4.6|4 GB|\n",
            "|Apple iPhone XR (...|https://www.flipk...|Apple|     41999| 52900|                 20|            79582|             6804|MOBF9Z7ZS6GF5UAP|        4.6|4 GB|\n",
            "|Apple iPhone XR (...|https://www.flipk...|Apple|     41999| 52900|                 20|            79512|             6796|MOBF9Z7ZYWNFGZUC|        4.6|3 GB|\n",
            "|Apple iPhone XR (...|https://www.flipk...|Apple|     41999| 52900|                 20|            79512|             6796|MOBF9Z7ZZY3HCDZZ|        4.6|4 GB|\n",
            "|APPLE iPhone 11 P...|https://www.flipk...|Apple|    131900|131900|                  0|             1078|              101|MOBFKCTS7HCHSPFH|        4.7|4 GB|\n",
            "|APPLE iPhone 11 P...|https://www.flipk...|Apple|    117100|117100|                  0|             1078|              101|MOBFKCTSAPAYNSGG|        4.7|4 GB|\n",
            "|APPLE iPhone 11 P...|https://www.flipk...|Apple|    131900|131900|                  0|             1078|              101|MOBFKCTSCAAKGQV7|        4.7|4 GB|\n",
            "|APPLE iPhone 11 P...|https://www.flipk...|Apple|    117100|117100|                  0|             1078|              101|MOBFKCTSKDMKCGQS|        4.7|4 GB|\n",
            "|APPLE iPhone 11 P...|https://www.flipk...|Apple|     74999|106600|                 29|             7088|              523|MOBFKCTSN3TG3RFJ|        4.6|4 GB|\n",
            "|APPLE iPhone 11 P...|https://www.flipk...|Apple|    117900|140300|                 15|             7088|              523|MOBFKCTSRTHRQTFT|        4.6|4 GB|\n",
            "+--------------------+--------------------+-----+----------+------+-------------------+-----------------+-----------------+----------------+-----------+----+\n",
            "only showing top 20 rows\n",
            "\n"
          ]
        }
      ]
    },
    {
      "cell_type": "code",
      "source": [
        "data.createOrReplaceTempView('MyTable')"
      ],
      "metadata": {
        "id": "49vwlJcMbzLe"
      },
      "execution_count": null,
      "outputs": []
    },
    {
      "cell_type": "code",
      "source": [
        "from pyspark.sql.functions import col, cast\n",
        "\n",
        "data=data.withColumn('Discount Percentage',col(\"Discount Percentage\").cast('int'))\n",
        "data=data.withColumn('Star Rating',col(\"Star Rating\").cast('int'))\n",
        "data=data.withColumn('Sale Price',col(\"Sale Price\").cast('int'))\n",
        "data=data.withColumn('Mrp',col(\"Mrp\").cast('int'))\n",
        "data=data.withColumn('Number Of Ratings',col(\"Number Of Ratings\").cast('int'))"
      ],
      "metadata": {
        "id": "SQqhahBFfHEN"
      },
      "execution_count": null,
      "outputs": []
    },
    {
      "cell_type": "code",
      "source": [
        "spark.sql('select * from MyTable order by `Discount Percentage`desc ').show()"
      ],
      "metadata": {
        "colab": {
          "base_uri": "https://localhost:8080/"
        },
        "id": "vhxB1296cMtV",
        "outputId": "34bd0a01-06ed-4fbf-f1ed-9c9bc656893c"
      },
      "execution_count": null,
      "outputs": [
        {
          "output_type": "stream",
          "name": "stdout",
          "text": [
            "+--------------------+--------------------+-----+----------+------+-------------------+-----------------+-----------------+----------------+-----------+----+\n",
            "|        Product Name|         Product URL|Brand|Sale Price|   Mrp|Discount Percentage|Number Of Ratings|Number Of Reviews|             Upc|Star Rating| Ram|\n",
            "+--------------------+--------------------+-----+----------+------+-------------------+-----------------+-----------------+----------------+-----------+----+\n",
            "|APPLE iPhone 11 P...|https://www.flipk...|Apple|     74999|106600|                 29|             7088|              523|MOBFKCTSN3TG3RFJ|          4|4 GB|\n",
            "|APPLE iPhone SE (...|https://www.flipk...|Apple|     29999| 39900|                 24|            95807|             8154|MOBFWQ6BGWDVGF3E|          4|2 GB|\n",
            "|APPLE iPhone SE (...|https://www.flipk...|Apple|     29999| 39900|                 24|            95909|             8161|MOBFWQ6BR3MK7AUG|          4|4 GB|\n",
            "|APPLE iPhone SE (...|https://www.flipk...|Apple|     34999| 44900|                 22|            95909|             8161|MOBFWQ6BHUEVZPXD|          4|2 GB|\n",
            "|APPLE iPhone SE (...|https://www.flipk...|Apple|     34999| 44900|                 22|            95807|             8154|MOBFWQ6BJEHMUUZY|          4|2 GB|\n",
            "|APPLE iPhone SE (...|https://www.flipk...|Apple|     34999| 44900|                 22|            95909|             8161|MOBFWQ6BJTVFKPEJ|          4|2 GB|\n",
            "|Apple iPhone XR (...|https://www.flipk...|Apple|     41999| 52900|                 20|            79512|             6796|MOBF9Z7ZHQC23PWQ|          4|4 GB|\n",
            "|Apple iPhone XR (...|https://www.flipk...|Apple|     41999| 52900|                 20|            79582|             6804|MOBF9Z7ZS6GF5UAP|          4|4 GB|\n",
            "|Apple iPhone XR (...|https://www.flipk...|Apple|     41999| 52900|                 20|            79512|             6796|MOBF9Z7ZYWNFGZUC|          4|3 GB|\n",
            "|Apple iPhone XR (...|https://www.flipk...|Apple|     41999| 52900|                 20|            79512|             6796|MOBF9Z7ZZY3HCDZZ|          4|4 GB|\n",
            "|Apple iPhone SE (...|https://www.flipk...|Apple|     44999| 54900|                 18|            95909|             8161|MOBFRFXHPZCHAPEH|          4|2 GB|\n",
            "|APPLE iPhone 11 P...|https://www.flipk...|Apple|     99900|121300|                 17|             7081|              522|MOBFKCTSWGYSAS9X|          4|4 GB|\n",
            "|Apple iPhone XR (...|https://www.flipk...|Apple|     39999| 47900|                 16|            79512|             6796|MOBF9Z7ZPHGV4GNH|          4|4 GB|\n",
            "|APPLE iPhone 11 P...|https://www.flipk...|Apple|    117900|140300|                 15|             7088|              523|MOBFKCTSSJCWYGCC|          4|4 GB|\n",
            "|APPLE iPhone 11 P...|https://www.flipk...|Apple|    117900|140300|                 15|             7088|              523|MOBFKCTSRTHRQTFT|          4|4 GB|\n",
            "|APPLE iPhone 12 M...|https://www.flipk...|Apple|     59900| 69900|                 14|              740|               64|MOBFWBYZBH4CEC4C|          4|4 GB|\n",
            "|APPLE iPhone 12 M...|https://www.flipk...|Apple|     59900| 69900|                 14|              740|               64|MOBFWBYZNVWGWN2U|          4|6 GB|\n",
            "|APPLE iPhone 12 M...|https://www.flipk...|Apple|     59900| 69900|                 14|              740|               64|MOBFWBYZXSEGBS6F|          4|4 GB|\n",
            "|APPLE iPhone 11 (...|https://www.flipk...|Apple|     46999| 54900|                 14|            43470|             3331|MOBFWQ6BTFFJKGKE|          4|4 GB|\n",
            "|APPLE iPhone 11 (...|https://www.flipk...|Apple|     46999| 54900|                 14|            43470|             3331|MOBFWQ6BVWVEH3XE|          4|4 GB|\n",
            "+--------------------+--------------------+-----+----------+------+-------------------+-----------------+-----------------+----------------+-----------+----+\n",
            "only showing top 20 rows\n",
            "\n"
          ]
        }
      ]
    },
    {
      "cell_type": "code",
      "source": [
        "spark.sql('select count(*) from MyTable ').show()"
      ],
      "metadata": {
        "colab": {
          "base_uri": "https://localhost:8080/"
        },
        "id": "IfFzivwvrITe",
        "outputId": "b240554d-a90a-46ae-f667-dc40ba897e59"
      },
      "execution_count": null,
      "outputs": [
        {
          "output_type": "stream",
          "name": "stdout",
          "text": [
            "+--------+\n",
            "|count(1)|\n",
            "+--------+\n",
            "|      62|\n",
            "+--------+\n",
            "\n"
          ]
        }
      ]
    }
  ]
}