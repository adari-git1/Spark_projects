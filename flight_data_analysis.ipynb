{
  "nbformat": 4,
  "nbformat_minor": 0,
  "metadata": {
    "colab": {
      "provenance": [],
      "authorship_tag": "ABX9TyMk1qMXEvlm4VkNilyz6L01",
      "include_colab_link": true
    },
    "kernelspec": {
      "name": "python3",
      "display_name": "Python 3"
    },
    "language_info": {
      "name": "python"
    }
  },
  "cells": [
    {
      "cell_type": "markdown",
      "metadata": {
        "id": "view-in-github",
        "colab_type": "text"
      },
      "source": [
        "<a href=\"https://colab.research.google.com/github/adari-git1/Spark_projects/blob/main/flight_data_analysis.ipynb\" target=\"_parent\"><img src=\"https://colab.research.google.com/assets/colab-badge.svg\" alt=\"Open In Colab\"/></a>"
      ]
    },
    {
      "cell_type": "code",
      "source": [
        "pip install pyspark"
      ],
      "metadata": {
        "colab": {
          "base_uri": "https://localhost:8080/"
        },
        "id": "SKwAfwyAQrUF",
        "outputId": "d94b6d96-8dad-4a43-a08a-1a3dd0a2e91d"
      },
      "execution_count": null,
      "outputs": [
        {
          "output_type": "stream",
          "name": "stdout",
          "text": [
            "Requirement already satisfied: pyspark in /usr/local/lib/python3.11/dist-packages (3.5.4)\n",
            "Requirement already satisfied: py4j==0.10.9.7 in /usr/local/lib/python3.11/dist-packages (from pyspark) (0.10.9.7)\n"
          ]
        }
      ]
    },
    {
      "cell_type": "code",
      "execution_count": null,
      "metadata": {
        "id": "5dnjGitqQHaG"
      },
      "outputs": [],
      "source": [
        "from pyspark.sql import SparkSession"
      ]
    },
    {
      "cell_type": "code",
      "source": [
        "spark=SparkSession.builder.appName(\"flight_session\").getOrCreate()"
      ],
      "metadata": {
        "id": "BoAFCzm1Qdea"
      },
      "execution_count": null,
      "outputs": []
    },
    {
      "cell_type": "code",
      "source": [
        "data=spark.read.option(\"header\",True).csv(\"/content/2015-summary.csv\")"
      ],
      "metadata": {
        "id": "hZ5IizdDQqsB"
      },
      "execution_count": null,
      "outputs": []
    },
    {
      "cell_type": "code",
      "source": [
        "data.count()"
      ],
      "metadata": {
        "colab": {
          "base_uri": "https://localhost:8080/"
        },
        "id": "LILr28NIRvEh",
        "outputId": "7609956a-9ba4-4177-92cf-7b965f295d0e"
      },
      "execution_count": null,
      "outputs": [
        {
          "output_type": "execute_result",
          "data": {
            "text/plain": [
              "256"
            ]
          },
          "metadata": {},
          "execution_count": 39
        }
      ]
    },
    {
      "cell_type": "code",
      "source": [
        "data.createOrReplaceTempView(\"Mytable\")"
      ],
      "metadata": {
        "id": "9wENFZoWRwFG"
      },
      "execution_count": null,
      "outputs": []
    },
    {
      "cell_type": "code",
      "source": [
        "spark.sql(\n",
        "    'select int(sum(`count`)) as total_flights from Mytable'\n",
        ").show()"
      ],
      "metadata": {
        "colab": {
          "base_uri": "https://localhost:8080/"
        },
        "id": "HRPpFnOdSttq",
        "outputId": "ba86a6d5-48e3-4d86-90ea-9919d5428c32"
      },
      "execution_count": null,
      "outputs": [
        {
          "output_type": "stream",
          "name": "stdout",
          "text": [
            "+-------------+\n",
            "|total_flights|\n",
            "+-------------+\n",
            "|       453316|\n",
            "+-------------+\n",
            "\n"
          ]
        }
      ]
    },
    {
      "cell_type": "code",
      "source": [
        "spark.sql(\n",
        "    '''select * from Mytable\n",
        "    order by count desc\n",
        "    limit 1\n",
        "    '''\n",
        ").show()"
      ],
      "metadata": {
        "colab": {
          "base_uri": "https://localhost:8080/"
        },
        "id": "wWXh0Za2V4Ys",
        "outputId": "6adc33f8-1a5d-4d25-8895-d1cb33eeaea7"
      },
      "execution_count": null,
      "outputs": [
        {
          "output_type": "stream",
          "name": "stdout",
          "text": [
            "+-----------------+-------------------+-----+\n",
            "|DEST_COUNTRY_NAME|ORIGIN_COUNTRY_NAME|count|\n",
            "+-----------------+-------------------+-----+\n",
            "|    United States|        The Bahamas|  986|\n",
            "+-----------------+-------------------+-----+\n",
            "\n"
          ]
        }
      ]
    },
    {
      "cell_type": "code",
      "source": [
        "spark.sql(\n",
        "    '''select * from Mytable\n",
        "    where DEST_COUNTRY_NAME='The Bahamas'\n",
        "    '''\n",
        ").show()"
      ],
      "metadata": {
        "colab": {
          "base_uri": "https://localhost:8080/"
        },
        "id": "L_oDfHadV35b",
        "outputId": "4e636e0b-f0f5-4c5f-bb09-7002d8b85109"
      },
      "execution_count": null,
      "outputs": [
        {
          "output_type": "stream",
          "name": "stdout",
          "text": [
            "+-----------------+-------------------+-----+\n",
            "|DEST_COUNTRY_NAME|ORIGIN_COUNTRY_NAME|count|\n",
            "+-----------------+-------------------+-----+\n",
            "|      The Bahamas|      United States|  955|\n",
            "+-----------------+-------------------+-----+\n",
            "\n"
          ]
        }
      ]
    },
    {
      "cell_type": "code",
      "source": [
        "spark.sql('select  a.DEST_COUNTRY_NAME,a.ORIGIN_COUNTRY_NAME,int(a.count+b.count)as total_between_them from Mytable a join Mytable b on a.DEST_COUNTRY_NAME=b.ORIGIN_COUNTRY_NAME and b.DEST_COUNTRY_NAME=a.ORIGIN_COUNTRY_NAME').show(50)"
      ],
      "metadata": {
        "colab": {
          "base_uri": "https://localhost:8080/"
        },
        "id": "bhQUpfbDXzlm",
        "outputId": "35a6a1ff-fe1b-4afc-b5bb-4e5e8bfed468"
      },
      "execution_count": null,
      "outputs": [
        {
          "output_type": "stream",
          "name": "stdout",
          "text": [
            "+--------------------+--------------------+------------------+\n",
            "|   DEST_COUNTRY_NAME| ORIGIN_COUNTRY_NAME|total_between_them|\n",
            "+--------------------+--------------------+------------------+\n",
            "|       United States|             Romania|                29|\n",
            "|       United States|             Croatia|                 3|\n",
            "|       United States|             Ireland|               679|\n",
            "|               Egypt|       United States|                27|\n",
            "|       United States|               India|               123|\n",
            "|       United States|           Singapore|                 4|\n",
            "|       United States|             Grenada|               115|\n",
            "|          Costa Rica|       United States|              1196|\n",
            "|             Senegal|       United States|                82|\n",
            "|       United States|        Sint Maarten|               650|\n",
            "|       United States|    Marshall Islands|                81|\n",
            "|              Guyana|       United States|               127|\n",
            "|               Malta|       United States|                 3|\n",
            "|            Anguilla|       United States|                79|\n",
            "|             Bolivia|       United States|                43|\n",
            "|       United States|            Paraguay|                66|\n",
            "|Turks and Caicos ...|       United States|               466|\n",
            "|               Italy|       United States|               820|\n",
            "|       United States|Federated States ...|               138|\n",
            "|       United States|              Russia|               337|\n",
            "|            Pakistan|       United States|                24|\n",
            "|       United States|         Netherlands|              1436|\n",
            "|             Iceland|       United States|               383|\n",
            "|    Marshall Islands|       United States|                81|\n",
            "|          Luxembourg|       United States|               289|\n",
            "|            Honduras|       United States|               769|\n",
            "|         The Bahamas|       United States|              1941|\n",
            "|       United States|             Senegal|                82|\n",
            "|         El Salvador|       United States|              1069|\n",
            "|               Samoa|       United States|                50|\n",
            "|       United States|              Angola|                28|\n",
            "|         Switzerland|       United States|               599|\n",
            "|       United States|            Anguilla|                79|\n",
            "|        Sint Maarten|       United States|               650|\n",
            "|           Hong Kong|       United States|               746|\n",
            "| Trinidad and Tobago|       United States|               428|\n",
            "|              Latvia|       United States|                34|\n",
            "|       United States|             Ecuador|               568|\n",
            "|            Suriname|       United States|                35|\n",
            "|              Mexico|       United States|             14327|\n",
            "|       United States|              Cyprus|                 2|\n",
            "|             Ecuador|       United States|               568|\n",
            "|       United States|            Portugal|               261|\n",
            "|       United States|          Costa Rica|              1196|\n",
            "|       United States|           Guatemala|               715|\n",
            "|       United States|            Suriname|                35|\n",
            "|            Colombia|       United States|              1740|\n",
            "|       United States|          Cape Verde|                34|\n",
            "|       United States|             Jamaica|              1378|\n",
            "|              Norway|       United States|               236|\n",
            "+--------------------+--------------------+------------------+\n",
            "only showing top 50 rows\n",
            "\n"
          ]
        }
      ]
    },
    {
      "cell_type": "code",
      "source": [],
      "metadata": {
        "id": "F0xD1S_7YHJ3"
      },
      "execution_count": null,
      "outputs": []
    }
  ]
}